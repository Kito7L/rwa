{
 "cells": [
  {
   "cell_type": "code",
   "id": "initial_id",
   "metadata": {
    "collapsed": true,
    "ExecuteTime": {
     "end_time": "2024-07-28T05:00:59.939850Z",
     "start_time": "2024-07-28T05:00:59.933299Z"
    }
   },
   "source": [
    "g = {\n",
    "    0: [1, 2, 3],\n",
    "    1: [0, 4],\n",
    "    2: [0, 4],\n",
    "    3: [0, 5],\n",
    "    4: [5],\n",
    "    5: [4, 6, 7],\n",
    "    6: [],\n",
    "    7: []\n",
    "}"
   ],
   "outputs": [],
   "execution_count": 2
  },
  {
   "metadata": {},
   "cell_type": "markdown",
   "source": "## Depth-first Search",
   "id": "638ef60dbd99c583"
  },
  {
   "metadata": {
    "ExecuteTime": {
     "end_time": "2024-07-27T11:53:14.760351Z",
     "start_time": "2024-07-27T11:53:14.755889Z"
    }
   },
   "cell_type": "code",
   "source": [
    "# Recursive\n",
    "def dfs(g:dict, node:Hashable)->None:\n",
    "    print(\"Visting\", node)\n",
    "    visited[node] = True\n",
    "    for v in g[node]:\n",
    "        if not visited[v]:\n",
    "            dfs(g,v)\n",
    "            "
   ],
   "id": "accb57ac0555881e",
   "outputs": [],
   "execution_count": 6
  },
  {
   "metadata": {
    "ExecuteTime": {
     "end_time": "2024-07-27T11:53:16.388039Z",
     "start_time": "2024-07-27T11:53:16.383514Z"
    }
   },
   "cell_type": "code",
   "source": [
    "visited = [ False ] * len(g) #initiate when start a new search;\n",
    "dfs(g,3)"
   ],
   "id": "6a7ec26f608de3ed",
   "outputs": [
    {
     "name": "stdout",
     "output_type": "stream",
     "text": [
      "Visting 3\n",
      "Visting 0\n",
      "Visting 1\n",
      "Visting 4\n",
      "Visting 5\n",
      "Visting 6\n",
      "Visting 7\n",
      "Visting 2\n"
     ]
    }
   ],
   "execution_count": 7
  },
  {
   "metadata": {
    "ExecuteTime": {
     "end_time": "2024-07-27T12:29:36.942605Z",
     "start_time": "2024-07-27T12:29:36.936530Z"
    }
   },
   "cell_type": "code",
   "source": [
    "def dfs_stack(g:dict, node:Hashable)-> list[bool]:\n",
    "    stack=[]\n",
    "    visited=[False] *len(g)\n",
    "    \n",
    "    stack.append(node)\n",
    "    while len(stack)!=0:\n",
    "        print(\"Stack\",stack)\n",
    "        last_node=stack.pop()\n",
    "        print(\"Visiting\",last_node)\n",
    "        visited[last_node] =True\n",
    "        for v in g[last_node]:\n",
    "            if not visited[v]:\n",
    "                stack.append(v)\n",
    "    return visited\n",
    "                \n",
    "    "
   ],
   "id": "23043ef2eafbeb98",
   "outputs": [],
   "execution_count": 12
  },
  {
   "metadata": {
    "ExecuteTime": {
     "end_time": "2024-07-27T12:29:38.416181Z",
     "start_time": "2024-07-27T12:29:38.408799Z"
    }
   },
   "cell_type": "code",
   "source": "dfs_stack(g,3)",
   "id": "4cbb4e26278d8417",
   "outputs": [
    {
     "name": "stdout",
     "output_type": "stream",
     "text": [
      "Stack [3]\n",
      "Visiting 3\n",
      "Stack [0, 5]\n",
      "Visiting 5\n",
      "Stack [0, 4, 6, 7]\n",
      "Visiting 7\n",
      "Stack [0, 4, 6]\n",
      "Visiting 6\n",
      "Stack [0, 4]\n",
      "Visiting 4\n",
      "Stack [0]\n",
      "Visiting 0\n",
      "Stack [1, 2]\n",
      "Visiting 2\n",
      "Stack [1]\n",
      "Visiting 1\n"
     ]
    },
    {
     "data": {
      "text/plain": [
       "[True, True, True, True, True, True, True, True]"
      ]
     },
     "execution_count": 13,
     "metadata": {},
     "output_type": "execute_result"
    }
   ],
   "execution_count": 13
  },
  {
   "metadata": {
    "ExecuteTime": {
     "end_time": "2024-07-27T12:44:15.020460Z",
     "start_time": "2024-07-27T12:44:15.015592Z"
    }
   },
   "cell_type": "code",
   "source": [
    "def dfs_nd_stack(g:dict, node:Hashable)->list[bool]:\n",
    "    stack = []\n",
    "    visited = [False] *len(g)\n",
    "    in_stack = [False]*len(g)\n",
    "    \n",
    "    stack.append(node)\n",
    "    in_stack[node] = True\n",
    "    \n",
    "    while len(stack)!=0:\n",
    "        print(\"Stack\", stack)\n",
    "        last_node = stack.pop()\n",
    "        in_stack[last_node] =False\n",
    "        print(\"Visiting\",last_node)\n",
    "        visited[last_node]=True\n",
    "        for v in g[last_node]:\n",
    "            if not visited[v] and not in_stack[v]:\n",
    "                stack.append(v)\n",
    "                in_stack[v] = True\n",
    "    return visited"
   ],
   "id": "e17e299a7c3bcd94",
   "outputs": [],
   "execution_count": 21
  },
  {
   "metadata": {
    "ExecuteTime": {
     "end_time": "2024-07-27T12:38:18.242117Z",
     "start_time": "2024-07-27T12:38:18.236411Z"
    }
   },
   "cell_type": "code",
   "source": [
    "g2 = {\n",
    "    0: [1, 2, 3],\n",
    "    1: [0, 4],\n",
    "    2: [0],\n",
    "    3: [0, 5],\n",
    "    4: [1, 5],\n",
    "    5: [3, 4, 6, 7],\n",
    "    6: [5],\n",
    "    7: [5]\n",
    "}"
   ],
   "id": "4f6077de6786ec3",
   "outputs": [],
   "execution_count": 15
  },
  {
   "metadata": {
    "ExecuteTime": {
     "end_time": "2024-07-27T12:38:31.552477Z",
     "start_time": "2024-07-27T12:38:31.547136Z"
    }
   },
   "cell_type": "code",
   "source": "dfs_stack(g2,3)",
   "id": "cb57183f36de1b87",
   "outputs": [
    {
     "name": "stdout",
     "output_type": "stream",
     "text": [
      "Stack [3]\n",
      "Visiting 3\n",
      "Stack [0, 5]\n",
      "Visiting 5\n",
      "Stack [0, 4, 6, 7]\n",
      "Visiting 7\n",
      "Stack [0, 4, 6]\n",
      "Visiting 6\n",
      "Stack [0, 4]\n",
      "Visiting 4\n",
      "Stack [0, 1]\n",
      "Visiting 1\n",
      "Stack [0, 0]\n",
      "Visiting 0\n",
      "Stack [0, 2]\n",
      "Visiting 2\n",
      "Stack [0]\n",
      "Visiting 0\n"
     ]
    },
    {
     "data": {
      "text/plain": [
       "[True, True, True, True, True, True, True, True]"
      ]
     },
     "execution_count": 16,
     "metadata": {},
     "output_type": "execute_result"
    }
   ],
   "execution_count": 16
  },
  {
   "metadata": {
    "ExecuteTime": {
     "end_time": "2024-07-27T12:44:19.750358Z",
     "start_time": "2024-07-27T12:44:19.743266Z"
    }
   },
   "cell_type": "code",
   "source": "dfs_nd_stack(g2,3)",
   "id": "3db3f8854e11a01e",
   "outputs": [
    {
     "name": "stdout",
     "output_type": "stream",
     "text": [
      "Stack [3]\n",
      "Visiting 3\n",
      "Stack [0, 5]\n",
      "Visiting 5\n",
      "Stack [0, 4, 6, 7]\n",
      "Visiting 7\n",
      "Stack [0, 4, 6]\n",
      "Visiting 6\n",
      "Stack [0, 4]\n",
      "Visiting 4\n",
      "Stack [0, 1]\n",
      "Visiting 1\n",
      "Stack [0]\n",
      "Visiting 0\n",
      "Stack [2]\n",
      "Visiting 2\n"
     ]
    },
    {
     "data": {
      "text/plain": [
       "[True, True, True, True, True, True, True, True]"
      ]
     },
     "execution_count": 22,
     "metadata": {},
     "output_type": "execute_result"
    }
   ],
   "execution_count": 22
  },
  {
   "metadata": {},
   "cell_type": "markdown",
   "source": "## Breadth-first Search",
   "id": "8f61a98cd34ff1c4"
  },
  {
   "metadata": {
    "ExecuteTime": {
     "end_time": "2024-07-28T05:00:49.909935Z",
     "start_time": "2024-07-28T05:00:49.898964Z"
    }
   },
   "cell_type": "code",
   "source": [
    "from collections import deque\n",
    "from typing import Hashable\n",
    "\n",
    "def bfs(g: dict, node: Hashable) -> list[bool]:\n",
    "    q= deque()\n",
    "    \n",
    "    visited =[False] * len(g)\n",
    "    inqueue = [False] * len(g)\n",
    "    \n",
    "    q.appendleft(node)\n",
    "    inqueue[node] = True\n",
    "    \n",
    "    while len(q)!=0:\n",
    "        print(\"Queue\",q)\n",
    "        c = q.pop()\n",
    "        print('Visiting',c)\n",
    "        inqueue[c] = False\n",
    "        visited[c] =True\n",
    "        for v in g[c]:\n",
    "            if not visited[v] and not inqueue[v]:\n",
    "                q.appendleft(v)\n",
    "                inqueue[v] =True\n",
    "    return visited"
   ],
   "id": "21b1a6e11adfa1b",
   "outputs": [],
   "execution_count": 1
  },
  {
   "metadata": {
    "ExecuteTime": {
     "end_time": "2024-07-28T05:01:17.180381Z",
     "start_time": "2024-07-28T05:01:17.173640Z"
    }
   },
   "cell_type": "code",
   "source": "bfs(g,3)",
   "id": "2667c5ef9f8431d0",
   "outputs": [
    {
     "name": "stdout",
     "output_type": "stream",
     "text": [
      "Queue deque([3])\n",
      "Visiting 3\n",
      "Queue deque([5, 0])\n",
      "Visiting 0\n",
      "Queue deque([2, 1, 5])\n",
      "Visiting 5\n",
      "Queue deque([7, 6, 4, 2, 1])\n",
      "Visiting 1\n",
      "Queue deque([7, 6, 4, 2])\n",
      "Visiting 2\n",
      "Queue deque([7, 6, 4])\n",
      "Visiting 4\n",
      "Queue deque([7, 6])\n",
      "Visiting 6\n",
      "Queue deque([7])\n",
      "Visiting 7\n"
     ]
    },
    {
     "data": {
      "text/plain": [
       "[True, True, True, True, True, True, True, True]"
      ]
     },
     "execution_count": 3,
     "metadata": {},
     "output_type": "execute_result"
    }
   ],
   "execution_count": 3
  },
  {
   "metadata": {},
   "cell_type": "markdown",
   "source": "## Reading nodes from txt files",
   "id": "3b27e33be6d111c1"
  },
  {
   "metadata": {
    "ExecuteTime": {
     "end_time": "2024-07-28T05:25:13.144496Z",
     "start_time": "2024-07-28T05:25:13.137694Z"
    }
   },
   "cell_type": "code",
   "source": [
    "input_filename = \"example_graph_2.txt\"\n",
    "\n",
    "g={}\n",
    "with open(input_filename) as graph_input:\n",
    "    for line in graph_input:\n",
    "        nodes =[int(x) for x in line.split()]\n",
    "        if len(nodes)!=2:\n",
    "            continue\n",
    "        if nodes[0] not in g:\n",
    "            g[nodes[0]]=[]\n",
    "        if nodes[1] not in g:\n",
    "            g[nodes[1]]= []\n",
    "        g[nodes[0]].append(nodes[1]) ## Direct graphs\n",
    "        g[nodes[1]].append(nodes[0]) ## Undirect Grahps if add this line\n",
    "print(g)"
   ],
   "id": "55b297bf4d1de949",
   "outputs": [
    {
     "name": "stdout",
     "output_type": "stream",
     "text": [
      "{0: [1, 2, 3], 1: [0, 4], 2: [0], 3: [0, 5], 4: [1, 5], 5: [3, 4, 6, 7], 6: [5], 7: [5]}\n"
     ]
    }
   ],
   "execution_count": 11
  },
  {
   "metadata": {
    "ExecuteTime": {
     "end_time": "2024-07-28T05:25:16.483892Z",
     "start_time": "2024-07-28T05:25:16.479283Z"
    }
   },
   "cell_type": "code",
   "source": [
    "import pprint\n",
    "pprint.pprint(g)"
   ],
   "id": "9591646c962326ce",
   "outputs": [
    {
     "name": "stdout",
     "output_type": "stream",
     "text": [
      "{0: [1, 2, 3],\n",
      " 1: [0, 4],\n",
      " 2: [0],\n",
      " 3: [0, 5],\n",
      " 4: [1, 5],\n",
      " 5: [3, 4, 6, 7],\n",
      " 6: [5],\n",
      " 7: [5]}\n"
     ]
    }
   ],
   "execution_count": 12
  },
  {
   "metadata": {},
   "cell_type": "markdown",
   "source": "## Using Networkx Lib",
   "id": "9478c2d35221cc80"
  },
  {
   "metadata": {
    "ExecuteTime": {
     "end_time": "2024-07-28T05:25:27.248186Z",
     "start_time": "2024-07-28T05:25:27.138498Z"
    }
   },
   "cell_type": "code",
   "source": [
    "import networkx as nx\n",
    "import  matplotlib.pyplot as plt\n",
    "\n",
    "G=nx.Graph()\n",
    "\n",
    "for node, neighbors in g.items():\n",
    "    for neighbor in neighbors:\n",
    "        G.add_edge(node,neighbor)\n",
    "\n",
    "plt.figure(figsize=(8,6))\n",
    "nx.draw(G,with_labels=True, node_color='lightblue', edge_color='gray',node_size=2000,font_size=15,font_weight='bold')\n",
    "plt.title(\"Graph Visualization\")\n",
    "plt.show()\n"
   ],
   "id": "b93f7036c85f66c7",
   "outputs": [
    {
     "data": {
      "text/plain": [
       "<Figure size 800x600 with 1 Axes>"
      ],
      "image/png": "[encoded data removed]"
     },
     "metadata": {},
     "output_type": "display_data"
    }
   ],
   "execution_count": 13
  },
  {
   "metadata": {},
   "cell_type": "code",
   "outputs": [],
   "execution_count": null,
   "source": "",
   "id": "dae04db280bed372"
  }
 ],
 "metadata": {
  "kernelspec": {
   "display_name": "Python 3",
   "language": "python",
   "name": "python3"
  },
  "language_info": {
   "codemirror_mode": {
    "name": "ipython",
    "version": 2
   },
   "file_extension": ".py",
   "mimetype": "text/x-python",
   "name": "python",
   "nbconvert_exporter": "python",
   "pygments_lexer": "ipython2",
   "version": "2.7.6"
  }
 },
 "nbformat": 4,
 "nbformat_minor": 5
}
