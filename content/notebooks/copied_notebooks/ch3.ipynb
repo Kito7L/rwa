{
 "cells": [
  {
   "metadata": {},
   "cell_type": "markdown",
   "source": "## Huffman Encoding ",
   "id": "72585efd32199c40"
  },
  {
   "metadata": {
    "ExecuteTime": {
     "end_time": "2024-08-09T04:26:34.713854Z",
     "start_time": "2024-08-09T04:26:34.711664Z"
    }
   },
   "cell_type": "code",
   "source": [
    "def create_pq():\n",
    "    return []"
   ],
   "id": "8e162b0ceacbbb78",
   "outputs": [],
   "execution_count": 3
  },
  {
   "metadata": {
    "ExecuteTime": {
     "end_time": "2024-08-09T04:26:34.740822Z",
     "start_time": "2024-08-09T04:26:34.738385Z"
    }
   },
   "cell_type": "code",
   "source": [
    "def add_last(pq,c):\n",
    "    pq.append(c)"
   ],
   "id": "1144ab38a43f7221",
   "outputs": [],
   "execution_count": 4
  },
  {
   "metadata": {},
   "cell_type": "markdown",
   "source": "## Heap/Priority Queue ",
   "id": "ab95edafa81374af"
  },
  {
   "metadata": {
    "ExecuteTime": {
     "end_time": "2024-08-09T04:26:34.747128Z",
     "start_time": "2024-08-09T04:26:34.742173Z"
    }
   },
   "cell_type": "code",
   "source": [
    "class MaxHeap:\n",
    "    def __init__(self):\n",
    "        self.heap = []\n",
    "\n",
    "    def insert(self, val):\n",
    "        self.heap.append(val)\n",
    "        self._heapify_up(len(self.heap) - 1)\n",
    "\n",
    "    def delete_max(self):\n",
    "        if len(self.heap) == 0:\n",
    "            return None\n",
    "        if len(self.heap) == 1:\n",
    "            return self.heap.pop()\n",
    "\n",
    "        max_val = self.heap[0]\n",
    "        self.heap[0] = self.heap.pop()\n",
    "        self._heapify_down(0)\n",
    "        return max_val\n",
    "\n",
    "    def _heapify_up(self, index):\n",
    "        parent_index = (index - 1) // 2\n",
    "        if index > 0 and self.heap[index] > self.heap[parent_index]:\n",
    "            self.heap[index], self.heap[parent_index] = self.heap[parent_index], self.heap[index]\n",
    "            self._heapify_up(parent_index)\n",
    "\n",
    "    def _heapify_down(self, index):\n",
    "        left_child_index = 2 * index + 1\n",
    "        right_child_index = 2 * index + 2\n",
    "        largest = index\n",
    "\n",
    "        if left_child_index < len(self.heap) and self.heap[left_child_index] > self.heap[largest]:\n",
    "            largest = left_child_index\n",
    "\n",
    "        if right_child_index < len(self.heap) and self.heap[right_child_index] > self.heap[largest]:\n",
    "            largest = right_child_index\n",
    "\n",
    "        if largest != index:\n",
    "            self.heap[index], self.heap[largest] = self.heap[largest], self.heap[index]\n",
    "            self._heapify_down(largest)\n",
    "\n",
    "# 示例使用\n",
    "max_heap = MaxHeap()\n",
    "max_heap.insert(5)\n",
    "max_heap.insert(2)\n",
    "max_heap.insert(8)\n",
    "max_heap.insert(10)\n",
    "max_heap.insert(3)\n",
    "\n",
    "print(\"堆:\", max_heap.heap)\n",
    "\n",
    "max_element = max_heap.delete_max()\n",
    "print(\"删除的最大元素:\", max_element)\n",
    "print(\"删除最大元素后的堆:\", max_heap.heap)"
   ],
   "id": "408132a64846bcc2",
   "outputs": [
    {
     "name": "stdout",
     "output_type": "stream",
     "text": [
      "堆: [10, 8, 5, 2, 3]\n",
      "删除的最大元素: 10\n",
      "删除最大元素后的堆: [8, 3, 5, 2]\n"
     ]
    }
   ],
   "execution_count": 5
  },
  {
   "metadata": {
    "ExecuteTime": {
     "end_time": "2024-08-09T04:26:34.750573Z",
     "start_time": "2024-08-09T04:26:34.748527Z"
    }
   },
   "cell_type": "code",
   "source": [
    "def root(pq):\n",
    "    return 0\n",
    "def set_root(pq,c):\n",
    "    if len(pq)!=0:\n",
    "        pq[0]=c\n"
   ],
   "id": "22258ac758f679dd",
   "outputs": [],
   "execution_count": 6
  },
  {
   "metadata": {
    "ExecuteTime": {
     "end_time": "2024-08-09T04:26:34.753748Z",
     "start_time": "2024-08-09T04:26:34.751852Z"
    }
   },
   "cell_type": "code",
   "source": [
    "def get_data(pq,p):\n",
    "    return pq[p]"
   ],
   "id": "915036ee0d80a68d",
   "outputs": [],
   "execution_count": 7
  },
  {
   "metadata": {
    "ExecuteTime": {
     "end_time": "2024-08-09T04:26:34.757745Z",
     "start_time": "2024-08-09T04:26:34.754742Z"
    }
   },
   "cell_type": "code",
   "source": [
    "def children(pq,p):\n",
    "    if 2*p +2 <len(pq):\n",
    "        return [2*p+1,2*p+2]\n",
    "    else:\n",
    "        return [2*p+1]"
   ],
   "id": "883f5f8fb50a14fb",
   "outputs": [],
   "execution_count": 8
  },
  {
   "metadata": {
    "ExecuteTime": {
     "end_time": "2024-08-09T04:26:34.761676Z",
     "start_time": "2024-08-09T04:26:34.759150Z"
    }
   },
   "cell_type": "code",
   "source": [
    "def parent(p):\n",
    "    return (p-1)//2"
   ],
   "id": "45ecb6cd9dccd5dc",
   "outputs": [],
   "execution_count": 9
  },
  {
   "metadata": {
    "ExecuteTime": {
     "end_time": "2024-08-09T04:26:34.765126Z",
     "start_time": "2024-08-09T04:26:34.762611Z"
    }
   },
   "cell_type": "code",
   "source": [
    "def exchange(pq, p1,p2):\n",
    "    pq[p1], pq[p2] =pq[p2],pq[p1]"
   ],
   "id": "a0c1f44ba6c9e92c",
   "outputs": [],
   "execution_count": 10
  },
  {
   "metadata": {
    "ExecuteTime": {
     "end_time": "2024-08-09T04:26:34.768049Z",
     "start_time": "2024-08-09T04:26:34.765749Z"
    }
   },
   "cell_type": "code",
   "source": [
    "def insert_in_pq(pq,c):\n",
    "    add_last(pq,c)\n",
    "    i = len(pq)-1\n",
    "    while i!=root(pq) and get_data(pq,i) < get_data(pq,parent(i)):\n",
    "        p = parent(i)\n",
    "        exchange(pq,i,p)\n",
    "        i=p"
   ],
   "id": "f4bdf8ad675a7ba8",
   "outputs": [],
   "execution_count": 11
  },
  {
   "metadata": {
    "ExecuteTime": {
     "end_time": "2024-08-09T04:26:34.770205Z",
     "start_time": "2024-08-09T04:26:34.768728Z"
    }
   },
   "cell_type": "code",
   "source": [
    "def extract_last_from_pq(pq):\n",
    "    return pq.pop()"
   ],
   "id": "88b33ba794efc353",
   "outputs": [],
   "execution_count": 12
  },
  {
   "metadata": {
    "ExecuteTime": {
     "end_time": "2024-08-09T04:26:34.773035Z",
     "start_time": "2024-08-09T04:26:34.771653Z"
    }
   },
   "cell_type": "code",
   "source": [
    "def has_children(pq,p):\n",
    "    return 2*p+1 <len(pq)"
   ],
   "id": "4ffa723496ea2099",
   "outputs": [],
   "execution_count": 13
  },
  {
   "metadata": {
    "ExecuteTime": {
     "end_time": "2024-08-09T04:26:34.775559Z",
     "start_time": "2024-08-09T04:26:34.773641Z"
    }
   },
   "cell_type": "code",
   "source": [
    "def extract_min_from_pq(pq): #This process ensures that the priority queue maintains its min-heap property after the minimum element is extracted.\n",
    "    c= pq[root(pq)]\n",
    "    set_root(pq,extract_last_from_pq(pq))\n",
    "    i=root(pq)\n",
    "    while has_children(pq,i):\n",
    "        j=min(children(pq,i),key=lambda x:get_data(pq,x))\n",
    "        if get_data(pq,i) <get_data(pq,j):\n",
    "            return c\n",
    "        exchange(pq,i,j)\n",
    "        i=j\n",
    "    return c"
   ],
   "id": "38a2c08f75a362f2",
   "outputs": [],
   "execution_count": 14
  },
  {
   "metadata": {},
   "cell_type": "markdown",
   "source": "## Compress",
   "id": "16c2463c69f0459e"
  },
  {
   "metadata": {
    "ExecuteTime": {
     "end_time": "2024-08-09T04:38:26.181848Z",
     "start_time": "2024-08-09T04:38:26.178469Z"
    }
   },
   "cell_type": "code",
   "source": [
    "text = \"This is the phrase that we want to compress.\"\n",
    "\n",
    "\n",
    "\n",
    "sym2freq= {}\n",
    "\n",
    "for ch in text:\n",
    "    if ch not in sym2freq: sym2freq[ch]=0\n",
    "    sym2freq[ch]+=1"
   ],
   "id": "b4ac987d179f6707",
   "outputs": [],
   "execution_count": 22
  },
  {
   "metadata": {
    "ExecuteTime": {
     "end_time": "2024-08-09T04:26:54.108502Z",
     "start_time": "2024-08-09T04:26:54.106247Z"
    }
   },
   "cell_type": "code",
   "source": [
    "import pprint\n",
    "pprint.pprint(sym2freq)"
   ],
   "id": "a5b9500e946fb5ba",
   "outputs": [
    {
     "name": "stdout",
     "output_type": "stream",
     "text": [
      "{' ': 8,\n",
      " 'a': 1,\n",
      " 'c': 1,\n",
      " 'e': 4,\n",
      " 'h': 2,\n",
      " 'i': 2,\n",
      " 'm': 1,\n",
      " 'n': 1,\n",
      " 'o': 2,\n",
      " 'p': 1,\n",
      " 'r': 1,\n",
      " 's': 4,\n",
      " 't': 6,\n",
      " 'w': 2,\n",
      " 'x': 1}\n"
     ]
    }
   ],
   "execution_count": 16
  },
  {
   "metadata": {
    "ExecuteTime": {
     "end_time": "2024-08-09T04:28:59.526792Z",
     "start_time": "2024-08-09T04:28:59.523528Z"
    }
   },
   "cell_type": "code",
   "source": [
    "from _collections import defaultdict\n",
    "\n",
    "sym2freq = defaultdict(int)\n",
    "for ch in text: sym2freq[ch]+=1\n",
    "\n",
    "pprint.pprint(sym2freq)"
   ],
   "id": "ccbecfbe88927dd4",
   "outputs": [
    {
     "name": "stdout",
     "output_type": "stream",
     "text": [
      "defaultdict(<class 'int'>,\n",
      "            {' ': 8,\n",
      "             'a': 1,\n",
      "             'c': 1,\n",
      "             'e': 4,\n",
      "             'h': 2,\n",
      "             'i': 2,\n",
      "             'm': 1,\n",
      "             'n': 1,\n",
      "             'o': 2,\n",
      "             'p': 1,\n",
      "             'r': 1,\n",
      "             's': 4,\n",
      "             't': 6,\n",
      "             'w': 2,\n",
      "             'x': 1})\n"
     ]
    }
   ],
   "execution_count": 17
  },
  {
   "metadata": {
    "ExecuteTime": {
     "end_time": "2024-08-09T04:38:34.763026Z",
     "start_time": "2024-08-09T04:38:34.759430Z"
    }
   },
   "cell_type": "code",
   "source": [
    "from collections import Counter\n",
    "sym2freq =Counter(text)\n",
    "pprint.pprint(sym2freq)"
   ],
   "id": "26a9d600f3b64355",
   "outputs": [
    {
     "name": "stdout",
     "output_type": "stream",
     "text": [
      "Counter({' ': 8,\n",
      "         's': 5,\n",
      "         't': 5,\n",
      "         'h': 4,\n",
      "         'e': 4,\n",
      "         'a': 3,\n",
      "         'i': 2,\n",
      "         'p': 2,\n",
      "         'r': 2,\n",
      "         'w': 2,\n",
      "         'o': 2,\n",
      "         'T': 1,\n",
      "         'n': 1,\n",
      "         'c': 1,\n",
      "         'm': 1,\n",
      "         '.': 1})\n"
     ]
    }
   ],
   "execution_count": 23
  },
  {
   "metadata": {
    "ExecuteTime": {
     "end_time": "2024-08-09T04:38:39.846826Z",
     "start_time": "2024-08-09T04:38:39.843202Z"
    }
   },
   "cell_type": "code",
   "source": [
    "pq=create_pq()\n",
    "\n",
    "for key, value in sym2freq.items():\n",
    "    insert_in_pq(pq,[value,[key,'']])\n",
    "    \n",
    "pprint.pprint(pq)"
   ],
   "id": "c897b1a24f23bf9e",
   "outputs": [
    {
     "name": "stdout",
     "output_type": "stream",
     "text": [
      "[[1, ['.', '']],\n",
      " [1, ['T', '']],\n",
      " [1, ['c', '']],\n",
      " [2, ['p', '']],\n",
      " [2, ['w', '']],\n",
      " [2, ['i', '']],\n",
      " [1, ['m', '']],\n",
      " [2, ['r', '']],\n",
      " [4, ['h', '']],\n",
      " [8, [' ', '']],\n",
      " [3, ['a', '']],\n",
      " [5, ['t', '']],\n",
      " [2, ['o', '']],\n",
      " [4, ['e', '']],\n",
      " [1, ['n', '']],\n",
      " [5, ['s', '']]]\n"
     ]
    }
   ],
   "execution_count": 24
  },
  {
   "metadata": {
    "ExecuteTime": {
     "end_time": "2024-08-09T04:55:35.348825Z",
     "start_time": "2024-08-09T04:55:35.345024Z"
    }
   },
   "cell_type": "code",
   "source": [
    "def create_huffman_code(pq):\n",
    "    while len(pq) >1:\n",
    "        x= extract_min_from_pq(pq)\n",
    "        y= extract_min_from_pq(pq)\n",
    "        \n",
    "        \n",
    "        for pair in x[1:]: pair[1]='0'+pair[1]\n",
    "        for pair in y[1:]: pair[1]='1'+pair[1]\n",
    "        \n",
    "        insert_in_pq(pq,[x[0]+y[0]]+x[1:]+y[1:])\n",
    "    return extract_min_from_pq(pq)"
   ],
   "id": "5d707379889a5b92",
   "outputs": [],
   "execution_count": 25
  },
  {
   "metadata": {
    "ExecuteTime": {
     "end_time": "2024-08-09T04:56:22.855937Z",
     "start_time": "2024-08-09T04:56:22.852662Z"
    }
   },
   "cell_type": "code",
   "source": [
    "hc = create_huffman_code(pq)\n",
    "print(\"huffman code:\")\n",
    "pprint.pprint(hc)"
   ],
   "id": "547b0beab9ff7ba3",
   "outputs": [
    {
     "name": "stdout",
     "output_type": "stream",
     "text": [
      "huffman code:\n",
      "[44,\n",
      " ['h', '000'],\n",
      " ['o', '0010'],\n",
      " ['p', '0011'],\n",
      " ['r', '0100'],\n",
      " ['w', '0101'],\n",
      " ['s', '011'],\n",
      " ['t', '100'],\n",
      " ['a', '1010'],\n",
      " ['n', '10110'],\n",
      " ['.', '101110'],\n",
      " ['T', '101111'],\n",
      " [' ', '110'],\n",
      " ['c', '111000'],\n",
      " ['m', '111001'],\n",
      " ['i', '11101'],\n",
      " ['e', '1111']]\n"
     ]
    }
   ],
   "execution_count": 26
  },
  {
   "metadata": {
    "ExecuteTime": {
     "end_time": "2024-08-09T04:58:48.290447Z",
     "start_time": "2024-08-09T04:58:48.288301Z"
    }
   },
   "cell_type": "code",
   "source": [
    "hc_table ={character: encoding for [character, encoding] in hc[1:]}\n",
    "pprint.pprint(hc_table)"
   ],
   "id": "cc1322be505347e",
   "outputs": [
    {
     "name": "stdout",
     "output_type": "stream",
     "text": [
      "{' ': '110',\n",
      " '.': '101110',\n",
      " 'T': '101111',\n",
      " 'a': '1010',\n",
      " 'c': '111000',\n",
      " 'e': '1111',\n",
      " 'h': '000',\n",
      " 'i': '11101',\n",
      " 'm': '111001',\n",
      " 'n': '10110',\n",
      " 'o': '0010',\n",
      " 'p': '0011',\n",
      " 'r': '0100',\n",
      " 's': '011',\n",
      " 't': '100',\n",
      " 'w': '0101'}\n"
     ]
    }
   ],
   "execution_count": 27
  },
  {
   "metadata": {
    "ExecuteTime": {
     "end_time": "2024-08-09T05:02:53.005307Z",
     "start_time": "2024-08-09T05:02:53.001519Z"
    }
   },
   "cell_type": "code",
   "source": [
    "huffman_encoding = [hc_table[c] for c in text]\n",
    "print(text)\n",
    "print('Original contents:')\n",
    "bit_representation = [f'{ord(c):b}' for c in text]\n",
    "print(bit_representation)\n",
    "print('Compressed contents:')\n",
    "print(huffman_encoding)"
   ],
   "id": "fc05491c3955528b",
   "outputs": [
    {
     "name": "stdout",
     "output_type": "stream",
     "text": [
      "This is the phrase that we want to compress.\n",
      "Original contents:\n",
      "['1010100', '1101000', '1101001', '1110011', '100000', '1101001', '1110011', '100000', '1110100', '1101000', '1100101', '100000', '1110000', '1101000', '1110010', '1100001', '1110011', '1100101', '100000', '1110100', '1101000', '1100001', '1110100', '100000', '1110111', '1100101', '100000', '1110111', '1100001', '1101110', '1110100', '100000', '1110100', '1101111', '100000', '1100011', '1101111', '1101101', '1110000', '1110010', '1100101', '1110011', '1110011', '101110']\n",
      "Compressed contents:\n",
      "['101111', '000', '11101', '011', '110', '11101', '011', '110', '100', '000', '1111', '110', '0011', '000', '0100', '1010', '011', '1111', '110', '100', '000', '1010', '100', '110', '0101', '1111', '110', '0101', '1010', '10110', '100', '110', '100', '0010', '110', '111000', '0010', '111001', '0011', '0100', '1111', '011', '011', '101110']\n"
     ]
    }
   ],
   "execution_count": 28
  },
  {
   "metadata": {
    "ExecuteTime": {
     "end_time": "2024-08-09T05:06:53.029614Z",
     "start_time": "2024-08-09T05:06:53.025411Z"
    }
   },
   "cell_type": "code",
   "source": "len(text)",
   "id": "6618f00d16bd021a",
   "outputs": [
    {
     "data": {
      "text/plain": [
       "44"
      ]
     },
     "execution_count": 29,
     "metadata": {},
     "output_type": "execute_result"
    }
   ],
   "execution_count": 29
  },
  {
   "metadata": {
    "ExecuteTime": {
     "end_time": "2024-08-09T05:07:52.321726Z",
     "start_time": "2024-08-09T05:07:52.317966Z"
    }
   },
   "cell_type": "code",
   "source": [
    "huffman_string = ''.join(huffman_encoding)\n",
    "print(huffman_string)\n",
    "len(huffman_string)"
   ],
   "id": "100a996de7dd5faa",
   "outputs": [
    {
     "name": "stdout",
     "output_type": "stream",
     "text": [
      "101111000111010111101110101111010000011111100011000010010100111111110100000101010011001011111110010110101011010011010000101101110000010111001001101001111011011101110\n"
     ]
    },
    {
     "data": {
      "text/plain": [
       "165"
      ]
     },
     "execution_count": 31,
     "metadata": {},
     "output_type": "execute_result"
    }
   ],
   "execution_count": 31
  },
  {
   "metadata": {
    "ExecuteTime": {
     "end_time": "2024-08-09T05:49:00.811588Z",
     "start_time": "2024-08-09T05:49:00.809013Z"
    }
   },
   "cell_type": "code",
   "source": [
    "for i in range(0,len(huffman_string),8):\n",
    "    chunk =huffman_string[i:i+8]\n",
    "    byte_chunk = int(chunk, 2).to_bytes(1, byteorder='big')\n",
    "    print(f'{chunk} {byte_chunk}')"
   ],
   "id": "6633322eb8c666af",
   "outputs": [
    {
     "name": "stdout",
     "output_type": "stream",
     "text": [
      "10111100 b'\\xbc'\n",
      "01110101 b'u'\n",
      "11101110 b'\\xee'\n",
      "10111101 b'\\xbd'\n",
      "00000111 b'\\x07'\n",
      "11100011 b'\\xe3'\n",
      "00001001 b'\\t'\n",
      "01001111 b'O'\n",
      "11110100 b'\\xf4'\n",
      "00010101 b'\\x15'\n",
      "00110010 b'2'\n",
      "11111110 b'\\xfe'\n",
      "01011010 b'Z'\n",
      "10110100 b'\\xb4'\n",
      "11010000 b'\\xd0'\n",
      "10110111 b'\\xb7'\n",
      "00000101 b'\\x05'\n",
      "11001001 b'\\xc9'\n",
      "10100111 b'\\xa7'\n",
      "10110111 b'\\xb7'\n",
      "01110 b'\\x0e'\n"
     ]
    }
   ],
   "execution_count": 36
  },
  {
   "metadata": {
    "ExecuteTime": {
     "end_time": "2024-08-09T07:24:05.611606Z",
     "start_time": "2024-08-09T07:24:05.604839Z"
    }
   },
   "cell_type": "code",
   "source": [
    "import pickle\n",
    "\n",
    "def huffman_compress(original_file, output_file):\n",
    "    pq = create_pq()\n",
    "    # First pass: count character occurrences.\n",
    "    symb2freq = Counter()\n",
    "    with open(original_file) as uncompressed_file:\n",
    "        for line in uncompressed_file:\n",
    "            symb2freq += Counter(line)\n",
    "    # Put the occurrences in a priority queue.\n",
    "    pq = create_pq()\n",
    "    for key, value in symb2freq.items():\n",
    "        insert_in_pq(pq, [value, [key, '']])\n",
    "    # Create the Huffman code.\n",
    "    hc = create_huffman_code(pq)\n",
    "    # Turn the code to a dictionary for easier lookup.\n",
    "    hc_table = { character: encoding for [character, encoding] in  hc[1:]}\n",
    "    # Second pass: we'll read again the uncompressed file,\n",
    "    # we'll compress the contents and save them to the\n",
    "    # compressed file as we go.\n",
    "    with open(original_file) as uncompressed_file, \\\n",
    "            open(output_file, 'wb') as compressed_file:\n",
    "        # First save the Huffman encoding...\n",
    "        pickle.dump(hc_table, compressed_file)\n",
    "        # then save the total number of characters in the original file.\n",
    "        pickle.dump(sum(symb2freq.values()), compressed_file)\n",
    "        # Use a buffer in which we will be adding the encoded characters;\n",
    "        # when the buffer has 8 bits or more we will output a byte and\n",
    "        # keep the remaining bits.\n",
    "        buffer = ''\n",
    "        for line in uncompressed_file:\n",
    "            for c in line:\n",
    "                # For each character, add the encoding to the buffer.\n",
    "                buffer += hc_table[c]\n",
    "                # Have we got enough stuff in the buffer to output a byte?\n",
    "                while len(buffer) >= 8:\n",
    "                    # Yes, output a byte.\n",
    "                    byte = int(buffer[:8], base=2).to_bytes(1, byteorder='big')\n",
    "                    compressed_file.write(byte)\n",
    "                    # Keep any remaining stuff in the buffer; that will go out\n",
    "                    # with the next byte.\n",
    "                    buffer = buffer[8:]\n",
    "        if len(buffer) > 0:\n",
    "            # If we have still remaining stuff, it means that part of the last \n",
    "            # character encoding was put in the previous byte, and part of it\n",
    "            # will go in the last byte; we'll pad zeroes to the end of it.\n",
    "            buffer = buffer.ljust(8, '0')\n",
    "            byte = int(buffer[:8], base=2).to_bytes(1, byteorder='big')\n",
    "            compressed_file.write(byte)"
   ],
   "id": "8325ffff7a53fbe3",
   "outputs": [],
   "execution_count": 49
  },
  {
   "metadata": {
    "ExecuteTime": {
     "end_time": "2024-08-09T07:24:09.079035Z",
     "start_time": "2024-08-09T07:24:08.571656Z"
    }
   },
   "cell_type": "code",
   "source": "huffman_compress('ulysses.txt','compressed_file_4.txt')",
   "id": "bf40ef3388695b4",
   "outputs": [],
   "execution_count": 50
  },
  {
   "metadata": {
    "ExecuteTime": {
     "end_time": "2024-08-09T06:48:16.380171Z",
     "start_time": "2024-08-09T06:48:16.375531Z"
    }
   },
   "cell_type": "code",
   "source": [
    "def huffman_decompress(input_file, output_file):\n",
    "    with open(input_file,'rb') as compressed_file, open(output_file,'w') as decompressed_file:\n",
    "        hc_table = pickle.load(compressed_file)\n",
    "        num_chars = pickle.load(compressed_file)\n",
    "        hc_decoding_table = {v:k for (k,v) in hc_table.items()}\n",
    "        num_decompressed =0\n",
    "        encoding =''\n",
    "        \n",
    "        byte = compressed_file.read(1)\n",
    "        \n",
    "        while byte:\n",
    "            bit_repr = format(int.from_bytes(byte, byteorder='big'),'08b')\n",
    "            for bit in bit_repr:\n",
    "                encoding += bit\n",
    "                if encoding in hc_decoding_table:\n",
    "                    decompressed_file.write(hc_decoding_table[encoding])\n",
    "                    num_decompressed+=1\n",
    "                    if num_decompressed==num_chars:break\n",
    "                    encoding=''\n",
    "            byte =compressed_file.read(1)        \n",
    "        "
   ],
   "id": "f6409a10181dea1b",
   "outputs": [],
   "execution_count": 44
  },
  {
   "metadata": {
    "ExecuteTime": {
     "end_time": "2024-08-09T07:24:16.212903Z",
     "start_time": "2024-08-09T07:24:15.516205Z"
    }
   },
   "cell_type": "code",
   "source": "huffman_decompress('compressed_file_4.txt','decompressed_file_5.txt')",
   "id": "d2d7ccf74e9e94b",
   "outputs": [],
   "execution_count": 51
  },
  {
   "metadata": {},
   "cell_type": "code",
   "outputs": [],
   "execution_count": null,
   "source": "",
   "id": "143e254c9141ecb6"
  }
 ],
 "metadata": {
  "kernelspec": {
   "display_name": "Python 3",
   "language": "python",
   "name": "python3"
  },
  "language_info": {
   "codemirror_mode": {
    "name": "ipython",
    "version": 2
   },
   "file_extension": ".py",
   "mimetype": "text/x-python",
   "name": "python",
   "nbconvert_exporter": "python",
   "pygments_lexer": "ipython2",
   "version": "2.7.6"
  }
 },
 "nbformat": 4,
 "nbformat_minor": 5
}
